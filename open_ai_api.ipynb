{
 "cells": [
  {
   "cell_type": "code",
   "id": "initial_id",
   "metadata": {
    "collapsed": true,
    "ExecuteTime": {
     "end_time": "2025-03-11T07:05:52.494531Z",
     "start_time": "2025-03-11T07:05:52.475406Z"
    }
   },
   "source": [
    "from dotenv import load_dotenv\n",
    "from openai import OpenAI\n",
    "import os\n",
    "\n",
    "# load the API key from the environment variable\n",
    "load_dotenv()\n",
    "key = os.getenv(\"OPENAI_API_KEY\")\n",
    "if key is None:\n",
    "    raise ValueError(\"API key is not set.\")\n"
   ],
   "outputs": [],
   "execution_count": 4
  },
  {
   "metadata": {
    "ExecuteTime": {
     "end_time": "2025-03-11T07:05:54.848486Z",
     "start_time": "2025-03-11T07:05:53.666197Z"
    }
   },
   "cell_type": "code",
   "source": [
    "client = OpenAI(api_key=key)\n",
    "\n",
    "assistant = client.beta.assistants.create(\n",
    "  name=\"Math Tutor\",\n",
    "  instructions=\"You are a personal math tutor. Write and run code to answer math questions.\",\n",
    "  tools=[{\"type\": \"code_interpreter\"}],\n",
    "  model=\"gpt-4o\",\n",
    ")"
   ],
   "id": "71d37dbf0932be7b",
   "outputs": [],
   "execution_count": 5
  },
  {
   "metadata": {
    "ExecuteTime": {
     "end_time": "2025-03-11T07:06:08.838351Z",
     "start_time": "2025-03-11T07:05:59.400085Z"
    }
   },
   "cell_type": "code",
   "source": [
    "thread = client.beta.threads.create()\n",
    "message = client.beta.threads.messages.create(\n",
    "    thread_id=thread.id,\n",
    "    role=\"user\",\n",
    "    content=\"I need to solve the equation `3x + 11 = 14`. Can you help me?\"\n",
    ")\n",
    "# Then, we use the `stream` SDK helper\n",
    "# with the `EventHandler` class to create the Run\n",
    "# and stream the response.\n",
    "from event_handler import EventHandler\n",
    "\n",
    "with client.beta.threads.runs.stream(\n",
    "        thread_id=thread.id,\n",
    "        assistant_id=assistant.id,\n",
    "        instructions=\"Please address the user as Jane Doe. The user has a premium account.\",\n",
    "        event_handler=EventHandler(),\n",
    ") as stream:\n",
    "    stream.until_done()\n"
   ],
   "id": "b53ace664fe622b3",
   "outputs": [],
   "execution_count": 6
  },
  {
   "metadata": {},
   "cell_type": "code",
   "outputs": [],
   "execution_count": null,
   "source": [
    "# file = client.files.create(\n",
    "#   file=open(\"myimage.png\", \"rb\"),\n",
    "#   purpose=\"vision\"\n",
    "# )\n",
    "# thread = client.beta.threads.create(\n",
    "#   messages=[\n",
    "#     {\n",
    "#       \"role\": \"user\",\n",
    "#       \"content\": [\n",
    "#         {\n",
    "#           \"type\": \"text\",\n",
    "#           \"text\": \"What is the difference between these images?\"\n",
    "#         },\n",
    "#         {\n",
    "#           \"type\": \"image_url\",\n",
    "#           \"image_url\": {\"url\": \"https://example.com/image.png\"}\n",
    "#         },\n",
    "#         {\n",
    "#           \"type\": \"image_file\",\n",
    "#           \"image_file\": {\"file_id\": file.id}\n",
    "#         },\n",
    "#       ],\n",
    "#     }\n",
    "#   ]\n",
    "# )"
   ],
   "id": "178c03a38ec1fbd"
  }
 ],
 "metadata": {
  "kernelspec": {
   "display_name": "Python 3",
   "language": "python",
   "name": "python3"
  },
  "language_info": {
   "codemirror_mode": {
    "name": "ipython",
    "version": 2
   },
   "file_extension": ".py",
   "mimetype": "text/x-python",
   "name": "python",
   "nbconvert_exporter": "python",
   "pygments_lexer": "ipython2",
   "version": "2.7.6"
  }
 },
 "nbformat": 4,
 "nbformat_minor": 5
}
